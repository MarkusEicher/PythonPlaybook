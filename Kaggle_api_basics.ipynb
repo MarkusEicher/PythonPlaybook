{
 "cells": [
  {
   "cell_type": "markdown",
   "metadata": {},
   "source": [
    "# `Kaggle Api Basics`\n",
    "\n",
    "\n",
    "# <font color=red>Mr Fugu Data Science</font>\n",
    "\n",
    "# (◕‿◕✿)\n",
    "\n",
    "# `Purpose and Outcome:`\n",
    "\n",
    "+ Work with the Kaggle API, learn some basics with command line and calls from Python\n",
    "\n",
    "+ Download files, find competitions, parse JSON, open Zip files from python\n",
    "\n",
    "`---------------------`\n",
    "# $1^{st}$\n",
    "\n",
    "+ **Before you get started you need an account** with `Kaggle` to get your API key then\n",
    "\n",
    "# $2^{nd}$\n",
    "\n",
    "+ Take the downloaded `kaggle.json` file and paste it in \n",
    "\n",
    "**Windows**\n",
    "\n",
    "+ Go to directory — `“C:\\Users\\<username>\\.kaggle\\”` — and paste here downloaded JSON file.\n",
    "\n",
    "**Mac/Linux**\n",
    "\n",
    "+ `~/.kaggle/`\n",
    "\n",
    "\n",
    "# $3^{rd}$\n",
    "\n",
    "(`pip or pip3`): depending on what you have setup\n",
    "\n",
    "+ `pip3 install kaggle`\n",
    "    \n",
    "    + as a side note for those on `Mac/Linux` you may need to do: `pip3 install --user kaggle` if you encounter issues with install.\n",
    "\n",
    "or\n",
    "\n",
    "+ `conda install -c conda-forge kaggle`\n",
    "\n",
    "# $4^{th}$\n",
    "+ go to your account and download an api key\n",
    "    \n",
    "    + [Then check this out](https://medium.com/analytics-vidhya/fetch-data-from-kaggle-with-python-9154a4c610e3) if you need help or clarification along with the `kaggle api docs` this [kaggle api docs](https://www.kaggle.com/docs/api)"
   ]
  },
  {
   "cell_type": "code",
   "execution_count": null,
   "metadata": {},
   "outputs": [],
   "source": [
    "# Convert Zip files\n",
    "from zipfile import ZipFile\n",
    "# Find files or directories\n",
    "import os\n",
    "# Dataframe operations\n",
    "import pandas as pd"
   ]
  },
  {
   "cell_type": "code",
   "execution_count": null,
   "metadata": {},
   "outputs": [],
   "source": [
    "# Connect to Kaggle Api\n",
    "from kaggle.api.kaggle_api_extended import KaggleApi\n",
    "api = KaggleApi()\n",
    "api.authenticate()"
   ]
  },
  {
   "cell_type": "code",
   "execution_count": null,
   "metadata": {},
   "outputs": [],
   "source": [
    "api.competitions_list(category='gettingStarted')\n"
   ]
  },
  {
   "cell_type": "code",
   "execution_count": null,
   "metadata": {},
   "outputs": [],
   "source": [
    "# Notice the CLI: command line interface\n",
    "api.competitions_list_cli(search='titanic')"
   ]
  },
  {
   "cell_type": "code",
   "execution_count": null,
   "metadata": {},
   "outputs": [],
   "source": [
    "api.competition_list_files('titanic')"
   ]
  },
  {
   "cell_type": "code",
   "execution_count": null,
   "metadata": {},
   "outputs": [],
   "source": [
    "pd.DataFrame(api.datasets_list(search='healthcare')).head(20)"
   ]
  },
  {
   "cell_type": "code",
   "execution_count": null,
   "metadata": {},
   "outputs": [],
   "source": [
    "# Since this is JSON we can parse this if you want: well why NOT (we love JSON parsing)\n",
    "api.datasets_list(search='healthcare')[5]"
   ]
  },
  {
   "cell_type": "code",
   "execution_count": null,
   "metadata": {},
   "outputs": [],
   "source": [
    "fun_json_parsing=[]\n",
    "for i in api.datasets_list(search='healthcare'):\n",
    "    \n",
    "    if i['tags']!=[]:\n",
    "        fun_json_parsing.append([i['id'],i['ref'],i['title'],\n",
    "                                i['tags'][0]['description']])\n",
    "    else:\n",
    "        fun_json_parsing.append([i['id'],i['ref'],i['title'],'None'])\n",
    "\n",
    "legos_df=pd.DataFrame(fun_json_parsing,columns=['id','ref','title','description'])\n",
    "legos_df.head()\n",
    "\n",
    "# The description column doesn't make sense but illustrates going into nested portion!"
   ]
  },
  {
   "cell_type": "code",
   "execution_count": null,
   "metadata": {},
   "outputs": [],
   "source": [
    "# stored in the tags originally and makes NO sense, who knows why?\n",
    "legos_df['description'][0]"
   ]
  },
  {
   "cell_type": "markdown",
   "metadata": {},
   "source": [
    "# Hiccups:\n",
    "\n",
    "+ At some point you will reach an error of `401 unauthorized`, this is an irritating and very frustrating error. Because, you google and read and have no succcess. I had this come up today\n",
    "\n",
    "+ I had to try and upgrade/update kaggle\n",
    "    + That didn't work so I tried to uninstall and do again\n",
    "        + I then tried to use an alternate install for Mac with the user portion I mentioned at the top\n",
    "+ I then decided to do something, cancel the api key in kaggle and download another.\n",
    "\n",
    "then I did this: going into the terminal\n",
    "\n",
    "`mycomputername:~/Downloads$ kaggle.json\n",
    "-bash: kaggle.json: command not found\n",
    "mycomputername:~/Downloads$ vi kaggle.json \n",
    "mycomputername:~/Downloads$ mv kaggle.json ~/.kaggle \n",
    "mycomputername:~/Downloads$ cd ..\n",
    "mycomputername:~$ chmod 600 /Users/mycomputername/.kaggle/kaggle.json\n",
    "`\n",
    "\n",
    "I looked inside of the file to make sure it had something, because I was desperate `vi kaggle.json` and everthing checked out. It is your user name and an api key\n",
    "\n",
    "then I said ok, lets move this file to the folder `.kaggle`, I had an old api key but it didn't say anything to me. Not sure why. But, then I went to run a command and it worked.\n",
    "I was greeted with the option of changing to `chmod 600 and the other junk`\n",
    "\n",
    "`Warning: Your Kaggle API key is readable by other users on this system! To fix this, you can run 'chmod 600 /Users/mycomputername/.kaggle/kaggle.json'`\n",
    "\n",
    "just copied and pasted into command line:\n",
    "\n",
    "`chmod 600 /Users/mycomputername/.kaggle/kaggle.json`\n",
    "\n",
    "*for now it works, knock on wood*"
   ]
  },
  {
   "cell_type": "code",
   "execution_count": null,
   "metadata": {},
   "outputs": [],
   "source": [
    "# all of the datasets fitting our search:\n",
    "api.dataset_list(search='healthcare')  \n",
    "# ,file_type='csv')"
   ]
  },
  {
   "cell_type": "code",
   "execution_count": null,
   "metadata": {},
   "outputs": [],
   "source": [
    "# Find the files inside of the folder here:\n",
    "api.dataset_list_files('jpmiller/layoutlm').files"
   ]
  },
  {
   "cell_type": "markdown",
   "metadata": {},
   "source": [
    "# `Create a folder to store our datasets from kaggle:`"
   ]
  },
  {
   "cell_type": "code",
   "execution_count": null,
   "metadata": {},
   "outputs": [],
   "source": [
    "# import os\n",
    "\n",
    "# define the name of the directory to be created\n",
    "path = os.getcwd()+\"/health_insurance\"\n",
    "\n",
    "try:\n",
    "    os.mkdir(path)\n",
    "except OSError:\n",
    "    print (\"Creation of the directory %s failed\" % path)\n",
    "else:\n",
    "    print (\"Successfully created the directory %s \" % path)"
   ]
  },
  {
   "cell_type": "markdown",
   "metadata": {},
   "source": [
    "# `Get all of the datasets reflecting our search criteria:`"
   ]
  },
  {
   "cell_type": "code",
   "execution_count": null,
   "metadata": {},
   "outputs": [],
   "source": [
    "# download one dataset: you have an onwer/file_name\n",
    "\n",
    "api.dataset_download_files('anmolkumar/health-insurance-cross-sell-prediction',\n",
    "        '/Users/zatoichi59/Desktop/health_insurance')\n",
    "# you can download unzipped as well"
   ]
  },
  {
   "cell_type": "code",
   "execution_count": null,
   "metadata": {},
   "outputs": [],
   "source": [
    "# find what is inside the new folder from downloaded data:\n",
    "health_ins=!ls /Users/zatoichi59/Desktop/health_insurance\n",
    "health_ins"
   ]
  },
  {
   "cell_type": "code",
   "execution_count": null,
   "metadata": {},
   "outputs": [],
   "source": [
    "def os_dir_search(file):\n",
    "    u=[]\n",
    "    for p,n,f in os.walk(os.getcwd()):\n",
    "        \n",
    "        for a in f:\n",
    "            a = str(a)\n",
    "            if a.endswith(file): # can be (.csv) or a file like I did and search \n",
    "#                 print(a)\n",
    "#                 print(p)\n",
    "                t=p\n",
    "    return t\n",
    "\n",
    "os_dir_search(health_ins[0])"
   ]
  },
  {
   "cell_type": "markdown",
   "metadata": {},
   "source": [
    "# If you have a Common Topic to download all files: \n",
    "\n",
    "`Be aware before you do this how many files and their sizes!`"
   ]
  },
  {
   "cell_type": "markdown",
   "metadata": {},
   "source": [
    " download all datasets fitting the search criteria! \n",
    "(Becareful you can get files that are 100+GB), like images so pay attention\n",
    "\n",
    "`data_=api.dataset_list(search='grocery',file_type='csv')`\n",
    "\n",
    "`for i in data_:\n",
    "    api.dataset_download_files(str(i),path=os.getcwd()+'/kaggle_datasets')`\n",
    "\n",
    "    # you can choose to unzip=True depending on your needs"
   ]
  },
  {
   "cell_type": "markdown",
   "metadata": {},
   "source": [
    "# `Extract Zip files:`"
   ]
  },
  {
   "cell_type": "code",
   "execution_count": null,
   "metadata": {},
   "outputs": [],
   "source": [
    "# from zipfile import ZipFile\n",
    "# specifying the zip file name \n",
    "\n",
    "file_name=os_dir_search(health_ins[0])+'/'+health_ins[0]\n",
    "  \n",
    "# opening the zip file in READ mode \n",
    "with ZipFile(file_name, 'r') as zip: \n",
    "    # printing all the contents of the zip file \n",
    "    zip.printdir() \n",
    "  \n",
    "    # extracting all the files \n",
    "    print('Extracting all the files now...') \n",
    "    zip.extractall('/Users/zatoichi59/Desktop/health_insurance') \n",
    "    print('Done!')"
   ]
  },
  {
   "cell_type": "code",
   "execution_count": null,
   "metadata": {},
   "outputs": [],
   "source": [
    "print('Location of my Insurance Folder: ',os_dir_search(health_ins[0]))\n",
    "print('-------------------------------')\n",
    "print('Files in Insurance Folder: \\n',os.listdir(my_dir))"
   ]
  },
  {
   "cell_type": "code",
   "execution_count": null,
   "metadata": {},
   "outputs": [],
   "source": [
    "my_dir=os_dir_search(health_ins[0])\n",
    "health_insurance_files=[]\n",
    "for file in os.listdir(my_dir):\n",
    "    health_insurance_files.append(file)\n",
    "\n",
    "pd.read_csv(health_insurance_files[2]).head()\n",
    "# os.listdir(my_dir)"
   ]
  },
  {
   "cell_type": "markdown",
   "metadata": {},
   "source": [
    "# <font color=red>Like</font>,Share &\n",
    "\n",
    "# <font color=red>SUB</font>scribe"
   ]
  },
  {
   "cell_type": "markdown",
   "metadata": {},
   "source": [
    "# `Citations & Help:` \n",
    "\n",
    "# ◔̯◔\n",
    "\n",
    "https://medium.com/@jeff.daniel77/accessing-the-kaggle-com-api-with-jupyter-notebook-on-windows-d6f330bc6953\n",
    "\n",
    "https://github.com/Kaggle/kaggle-api\n",
    "\n",
    "https://technowhisp.com/kaggle-api-python-documentation/\n",
    "\n",
    "https://www.kaggle.com/docs/api#interacting-with-datasets\n",
    "\n",
    "https://www.geeksforgeeks.org/working-zip-files-python/\n",
    "\n",
    "https://medium.com/analytics-vidhya/fetch-data-from-kaggle-with-python-9154a4c610e3\n",
    "\n",
    "https://stackabuse.com/creating-and-deleting-directories-with-python/\n",
    "\n",
    "https://www.kaggle.com/paultimothymooney/exploring-the-kaggle-api\n",
    "\n",
    "https://stackoverflow.com/questions/50836642/i-get-a-bash-command-not-found-when-trying-to-use-the-kaggle-api\n",
    "\n",
    "https://github.com/Kaggle/kaggle-api/issues/29"
   ]
  }
 ],
 "metadata": {
  "kernelspec": {
   "display_name": "Python 3",
   "language": "python",
   "name": "python3"
  },
  "language_info": {
   "codemirror_mode": {
    "name": "ipython",
    "version": 3
   },
   "file_extension": ".py",
   "mimetype": "text/x-python",
   "name": "python",
   "nbconvert_exporter": "python",
   "pygments_lexer": "ipython3",
   "version": "3.11.5"
  }
 },
 "nbformat": 4,
 "nbformat_minor": 4
}
